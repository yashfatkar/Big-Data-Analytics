{
  "cells": [
    {
      "cell_type": "markdown",
      "id": "f5b6743e",
      "metadata": {
        "id": "f5b6743e"
      },
      "source": [
        "# F-Test"
      ]
    },
    {
      "cell_type": "code",
      "execution_count": null,
      "id": "591f3935",
      "metadata": {
        "id": "591f3935"
      },
      "outputs": [],
      "source": [
        "# Aim : To perform hypothesis testing using ANOVA (F-TEST) One-Way F-Test(Anova)."
      ]
    },
    {
      "cell_type": "code",
      "execution_count": null,
      "id": "fc0b66fd",
      "metadata": {
        "id": "fc0b66fd"
      },
      "outputs": [],
      "source": [
        "# Name: Yash Fatkar\n",
        "# Class: 3rd year\n",
        "# Sec: A\n",
        "# Roll No. : 26"
      ]
    },
    {
      "cell_type": "code",
      "execution_count": null,
      "id": "bd3032a5",
      "metadata": {
        "id": "bd3032a5"
      },
      "outputs": [],
      "source": [
        "ages=[10,20,35,50,28,40,55,18,16,55,30,25,43,18,30,28,14,24,16,17,32,35,26,27,65,18,43,23,21,20,19,70,80,81,82,83,84,85,86,87,89,88,90,91,92,93,94,95,96,97,98,99,100,74,79,68]"
      ]
    },
    {
      "cell_type": "code",
      "execution_count": null,
      "id": "0bd4bc60",
      "metadata": {
        "id": "0bd4bc60",
        "outputId": "03205443-d510-44ad-b52c-75794699b54a"
      },
      "outputs": [
        {
          "data": {
            "text/plain": [
              "56"
            ]
          },
          "execution_count": 4,
          "metadata": {},
          "output_type": "execute_result"
        }
      ],
      "source": [
        "len(ages)"
      ]
    },
    {
      "cell_type": "code",
      "execution_count": null,
      "id": "406d3aae",
      "metadata": {
        "id": "406d3aae"
      },
      "outputs": [],
      "source": [
        "import numpy as np"
      ]
    },
    {
      "cell_type": "code",
      "execution_count": null,
      "id": "aae8fba1",
      "metadata": {
        "id": "aae8fba1"
      },
      "outputs": [],
      "source": [
        "sample_size=10\n",
        "age_sample=np.random.choice(ages,sample_size)"
      ]
    },
    {
      "cell_type": "code",
      "execution_count": null,
      "id": "97e39cf2",
      "metadata": {
        "id": "97e39cf2"
      },
      "outputs": [],
      "source": [
        "import scipy.stats\n",
        "import numpy as np"
      ]
    },
    {
      "cell_type": "code",
      "execution_count": null,
      "id": "9cbcfeda",
      "metadata": {
        "id": "9cbcfeda"
      },
      "outputs": [],
      "source": [
        "data1 = [0.0842, 0.0368, 0.0847, 0.0935, 0.0376, 0.0963, 0.0684,\n",
        "0.0758, 0.0854, 0.0855]\n",
        "data2 = [0.0785, 0.0845, 0.0758, 0.0853, 0.0946, 0.0785, 0.0853,\n",
        "0.0685]\n",
        "data3 = [0.0864, 0.2522, 0.0894, 0.2724, 0.0853, 0.1367, 0.853]"
      ]
    },
    {
      "cell_type": "code",
      "execution_count": null,
      "id": "b31d4a6a",
      "metadata": {
        "id": "b31d4a6a",
        "outputId": "2f6f4b75-60d7-4e8e-a0d3-12c00981e861"
      },
      "outputs": [
        {
          "name": "stdout",
          "output_type": "stream",
          "text": [
            "p-value is:  0.04043792126789144\n"
          ]
        }
      ],
      "source": [
        "# Performing the F-Test\n",
        "f_test, p_val = scipy.stats.f_oneway(data1, data2, data3)\n",
        "print(\"p-value is: \", p_val)\n"
      ]
    },
    {
      "cell_type": "code",
      "execution_count": null,
      "id": "e6d27326",
      "metadata": {
        "id": "e6d27326",
        "outputId": "c0e79c25-1724-42ed-ea07-3fb2aa96f4a8"
      },
      "outputs": [
        {
          "name": "stdout",
          "output_type": "stream",
          "text": [
            " We can reject the null hypothesis\n"
          ]
        }
      ],
      "source": [
        "# taking the threshold value as 0.05 or 5%\n",
        "if p_val < 0.05:\n",
        "    print(\" We can reject the null hypothesis\")\n",
        "else:\n",
        "    print(\"We can accept the null hypothesis\")"
      ]
    },
    {
      "cell_type": "code",
      "execution_count": null,
      "id": "0698d3bd",
      "metadata": {
        "id": "0698d3bd"
      },
      "outputs": [],
      "source": [
        "variance1 = np.var(data1)"
      ]
    },
    {
      "cell_type": "code",
      "execution_count": null,
      "id": "58aa123b",
      "metadata": {
        "id": "58aa123b",
        "outputId": "8eba57db-fe18-4dce-f000-d6b6c4381778"
      },
      "outputs": [
        {
          "name": "stdout",
          "output_type": "stream",
          "text": [
            "0.00040949560000000005\n"
          ]
        }
      ],
      "source": [
        "print(variance1)"
      ]
    },
    {
      "cell_type": "code",
      "execution_count": null,
      "id": "5f46d3ec",
      "metadata": {
        "id": "5f46d3ec"
      },
      "outputs": [],
      "source": [
        "variance2 = np.var(data2)"
      ]
    },
    {
      "cell_type": "code",
      "execution_count": null,
      "id": "18e6e8bf",
      "metadata": {
        "id": "18e6e8bf",
        "outputId": "285fc12c-1cfd-419b-81af-62f99238587a"
      },
      "outputs": [
        {
          "name": "stdout",
          "output_type": "stream",
          "text": [
            "5.3606874999999995e-05\n"
          ]
        }
      ],
      "source": [
        "print(variance2)"
      ]
    },
    {
      "cell_type": "code",
      "execution_count": null,
      "id": "606842e4",
      "metadata": {
        "id": "606842e4"
      },
      "outputs": [],
      "source": [
        "variance3 = np.var(data3)"
      ]
    },
    {
      "cell_type": "code",
      "execution_count": null,
      "id": "ef409468",
      "metadata": {
        "id": "ef409468",
        "outputId": "d4164c31-8959-441f-8330-305147bbf2b2"
      },
      "outputs": [
        {
          "name": "stdout",
          "output_type": "stream",
          "text": [
            "0.06522053346938775\n"
          ]
        }
      ],
      "source": [
        "print(variance3)"
      ]
    },
    {
      "cell_type": "code",
      "execution_count": null,
      "id": "81bce1a7",
      "metadata": {
        "id": "81bce1a7"
      },
      "outputs": [],
      "source": []
    }
  ],
  "metadata": {
    "kernelspec": {
      "display_name": "Python 3 (ipykernel)",
      "language": "python",
      "name": "python3"
    },
    "language_info": {
      "codemirror_mode": {
        "name": "ipython",
        "version": 3
      },
      "file_extension": ".py",
      "mimetype": "text/x-python",
      "name": "python",
      "nbconvert_exporter": "python",
      "pygments_lexer": "ipython3",
      "version": "3.9.7"
    },
    "colab": {
      "provenance": []
    }
  },
  "nbformat": 4,
  "nbformat_minor": 5
}