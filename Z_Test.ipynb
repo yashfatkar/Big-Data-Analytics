{
  "cells": [
    {
      "cell_type": "markdown",
      "id": "c83f2e90",
      "metadata": {
        "id": "c83f2e90"
      },
      "source": [
        "# Z Test"
      ]
    },
    {
      "cell_type": "code",
      "execution_count": null,
      "id": "47183b8c",
      "metadata": {
        "id": "47183b8c"
      },
      "outputs": [],
      "source": [
        "# Aim : To perform hypothesis testing using Z test."
      ]
    },
    {
      "cell_type": "code",
      "execution_count": null,
      "id": "db2dce2f",
      "metadata": {
        "id": "db2dce2f"
      },
      "outputs": [],
      "source": [
        "# Name: Yash Fatkar\n",
        "# Class: 3rd year\n",
        "# Sec: A\n",
        "# Roll No. : 26"
      ]
    },
    {
      "cell_type": "code",
      "execution_count": null,
      "id": "5a8fc4c2",
      "metadata": {
        "id": "5a8fc4c2"
      },
      "outputs": [],
      "source": [
        "ages=[10,20,35,50,28,40,55,18,16,55,30,25,43,18,30,28,14,24,16,17,32,35,26,27,65,18,43,23,21,20,19,70]"
      ]
    },
    {
      "cell_type": "code",
      "execution_count": null,
      "id": "5872869a",
      "metadata": {
        "id": "5872869a",
        "outputId": "0a61276a-6da3-4bc3-9aaa-0d8eb6e7e42f"
      },
      "outputs": [
        {
          "data": {
            "text/plain": [
              "32"
            ]
          },
          "execution_count": 4,
          "metadata": {},
          "output_type": "execute_result"
        }
      ],
      "source": [
        "len(ages)"
      ]
    },
    {
      "cell_type": "code",
      "execution_count": null,
      "id": "5acf2547",
      "metadata": {
        "id": "5acf2547",
        "outputId": "752e2919-f1ff-49ba-9847-54cbb2d71c40"
      },
      "outputs": [
        {
          "name": "stdout",
          "output_type": "stream",
          "text": [
            "30.34375\n"
          ]
        }
      ],
      "source": [
        "import numpy as np\n",
        "ages_mean=np.mean(ages)\n",
        "print(ages_mean)"
      ]
    },
    {
      "cell_type": "code",
      "execution_count": null,
      "id": "83447040",
      "metadata": {
        "id": "83447040"
      },
      "outputs": [],
      "source": [
        "## Lets take sample\n",
        "\n",
        "sample_size=31\n",
        "age_sample=np.random.choice(ages,sample_size)"
      ]
    },
    {
      "cell_type": "code",
      "execution_count": null,
      "id": "bb0d2773",
      "metadata": {
        "id": "bb0d2773",
        "outputId": "624d40d0-6562-4d89-c007-4688e11fcbfa"
      },
      "outputs": [
        {
          "data": {
            "text/plain": [
              "array([24, 24, 55, 16, 65, 55, 35, 14, 65, 20, 28, 43, 10, 10, 30, 30, 55,\n",
              "       32, 20, 17, 23, 32, 17, 70, 27, 16, 16, 18, 20, 19, 35])"
            ]
          },
          "execution_count": 7,
          "metadata": {},
          "output_type": "execute_result"
        }
      ],
      "source": [
        "age_sample"
      ]
    },
    {
      "cell_type": "code",
      "execution_count": null,
      "id": "8841ecf6",
      "metadata": {
        "id": "8841ecf6"
      },
      "outputs": [],
      "source": [
        "# from scipy.stats import ztest_1samp"
      ]
    },
    {
      "cell_type": "code",
      "execution_count": null,
      "id": "0b728bd2",
      "metadata": {
        "id": "0b728bd2",
        "outputId": "3379ea1e-7b48-4dcd-c87b-b48aee7f335d"
      },
      "outputs": [
        {
          "name": "stdout",
          "output_type": "stream",
          "text": [
            "ztest 9.851701971870249\n",
            "P-value: 6.73929402110435e-23\n"
          ]
        }
      ],
      "source": [
        "from statsmodels.stats import weightstats as stests\n",
        "\n",
        "# Perform one-sample z-test\n",
        "ztest, p_value = stests.ztest(age_sample)\n",
        "\n",
        "# Print the results\n",
        "print(\"ztest\", ztest)\n",
        "print(\"P-value:\", p_value)\n"
      ]
    },
    {
      "cell_type": "code",
      "execution_count": null,
      "id": "90c47f2c",
      "metadata": {
        "id": "90c47f2c",
        "outputId": "d0935d9f-0902-4f51-eb18-14e892737c96"
      },
      "outputs": [
        {
          "name": "stdout",
          "output_type": "stream",
          "text": [
            " we are rejecting null hypothesis\n"
          ]
        }
      ],
      "source": [
        "if p_value < 0.05:    # alpha value is 0.05 or 5%    (Level of significance)\n",
        "    print(\" we are rejecting null hypothesis\")\n",
        "else:\n",
        "    print(\"we are accepting null hypothesis\")"
      ]
    },
    {
      "cell_type": "code",
      "execution_count": null,
      "id": "732b13be",
      "metadata": {
        "id": "732b13be"
      },
      "outputs": [],
      "source": []
    }
  ],
  "metadata": {
    "kernelspec": {
      "display_name": "Python 3 (ipykernel)",
      "language": "python",
      "name": "python3"
    },
    "language_info": {
      "codemirror_mode": {
        "name": "ipython",
        "version": 3
      },
      "file_extension": ".py",
      "mimetype": "text/x-python",
      "name": "python",
      "nbconvert_exporter": "python",
      "pygments_lexer": "ipython3",
      "version": "3.9.7"
    },
    "colab": {
      "provenance": []
    }
  },
  "nbformat": 4,
  "nbformat_minor": 5
}