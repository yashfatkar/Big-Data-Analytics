{
  "cells": [
    {
      "cell_type": "markdown",
      "id": "ae51a28f",
      "metadata": {
        "id": "ae51a28f"
      },
      "source": [
        "# T Test\n"
      ]
    },
    {
      "cell_type": "code",
      "execution_count": null,
      "id": "f366c758",
      "metadata": {
        "id": "f366c758"
      },
      "outputs": [],
      "source": [
        "# Aim : To perform hypothesis testing using T test."
      ]
    },
    {
      "cell_type": "code",
      "execution_count": null,
      "id": "cc4fffe0",
      "metadata": {
        "id": "cc4fffe0"
      },
      "outputs": [],
      "source": [
        "# Name: Yash Fatkar\n",
        "# Class: 3rd year\n",
        "# Sec: A\n",
        "# Roll No. : 26"
      ]
    },
    {
      "cell_type": "markdown",
      "id": "2782d207",
      "metadata": {
        "id": "2782d207"
      },
      "source": [
        "T Test A t-test is a type of inferential statistic which is used to determine if there is a significant difference between the means of two groups which may be related in certain features"
      ]
    },
    {
      "cell_type": "code",
      "execution_count": null,
      "id": "6dd30728",
      "metadata": {
        "id": "6dd30728"
      },
      "outputs": [],
      "source": [
        "ages=[10,20,35,50,28,40,55,18,16,55,30,25,43,18,30,28,14,24,16,17,32,35,26,27,65,18,43,23,21,20,19,70]"
      ]
    },
    {
      "cell_type": "code",
      "execution_count": null,
      "id": "e05f695d",
      "metadata": {
        "id": "e05f695d",
        "outputId": "e817946a-2262-4534-ec3d-b86534ea5f0c"
      },
      "outputs": [
        {
          "data": {
            "text/plain": [
              "32"
            ]
          },
          "execution_count": 4,
          "metadata": {},
          "output_type": "execute_result"
        }
      ],
      "source": [
        "len(ages)"
      ]
    },
    {
      "cell_type": "code",
      "execution_count": null,
      "id": "8d019799",
      "metadata": {
        "id": "8d019799",
        "outputId": "9de63220-415a-453c-8134-3b72f7ea7f83"
      },
      "outputs": [
        {
          "name": "stdout",
          "output_type": "stream",
          "text": [
            "30.34375\n"
          ]
        }
      ],
      "source": [
        "import numpy as np\n",
        "ages_mean=np.mean(ages)\n",
        "print(ages_mean)"
      ]
    },
    {
      "cell_type": "code",
      "execution_count": null,
      "id": "975f62ae",
      "metadata": {
        "id": "975f62ae"
      },
      "outputs": [],
      "source": [
        "sample_size=10\n",
        "age_sample=np.random.choice(ages,sample_size)"
      ]
    },
    {
      "cell_type": "code",
      "execution_count": null,
      "id": "dc1da488",
      "metadata": {
        "id": "dc1da488",
        "outputId": "0901ca46-268a-4cce-fb44-060b38b64adc"
      },
      "outputs": [
        {
          "data": {
            "text/plain": [
              "array([18, 14, 70, 21, 50, 18, 18, 18, 50, 55])"
            ]
          },
          "execution_count": 7,
          "metadata": {},
          "output_type": "execute_result"
        }
      ],
      "source": [
        "age_sample"
      ]
    },
    {
      "cell_type": "code",
      "execution_count": null,
      "id": "542929b3",
      "metadata": {
        "id": "542929b3"
      },
      "outputs": [],
      "source": [
        "from scipy.stats import ttest_1samp"
      ]
    },
    {
      "cell_type": "code",
      "execution_count": null,
      "id": "ebffa919",
      "metadata": {
        "id": "ebffa919"
      },
      "outputs": [],
      "source": [
        "ttest,p_value=ttest_1samp(age_sample,30)"
      ]
    },
    {
      "cell_type": "code",
      "execution_count": null,
      "id": "3eea8bca",
      "metadata": {
        "id": "3eea8bca",
        "outputId": "ca835082-41e4-41ac-f9d8-6d01be106113"
      },
      "outputs": [
        {
          "name": "stdout",
          "output_type": "stream",
          "text": [
            "0.6357349574999751\n"
          ]
        }
      ],
      "source": [
        "print(p_value)"
      ]
    },
    {
      "cell_type": "code",
      "execution_count": null,
      "id": "8903091e",
      "metadata": {
        "id": "8903091e",
        "outputId": "b30a392a-042d-4e01-f1e1-60217289bcfa"
      },
      "outputs": [
        {
          "name": "stdout",
          "output_type": "stream",
          "text": [
            "we are accepting null hypothesis\n"
          ]
        }
      ],
      "source": [
        "if p_value < 0.05:    # alpha value is 0.05 or 5%\n",
        "    print(\" we are rejecting null hypothesis\")\n",
        "else:\n",
        "    print(\"we are accepting null hypothesis\")"
      ]
    }
  ],
  "metadata": {
    "kernelspec": {
      "display_name": "Python 3 (ipykernel)",
      "language": "python",
      "name": "python3"
    },
    "language_info": {
      "codemirror_mode": {
        "name": "ipython",
        "version": 3
      },
      "file_extension": ".py",
      "mimetype": "text/x-python",
      "name": "python",
      "nbconvert_exporter": "python",
      "pygments_lexer": "ipython3",
      "version": "3.9.7"
    },
    "colab": {
      "provenance": []
    }
  },
  "nbformat": 4,
  "nbformat_minor": 5
}